{
 "cells": [
  {
   "cell_type": "markdown",
   "metadata": {
    "id": "qJKLHe53S7lp"
   },
   "source": [
    "\n",
    "Application : reconnaissance d'images. le dataset MNIST_fashion. 70,000 images en niveau de gris (28X28) sur 10 articles (manteau, basket,..) à classer. https://keras.io/api/datasets/fashion_mnist/"
   ]
  },
  {
   "cell_type": "markdown",
   "metadata": {
    "id": "mpHG4Lx4S7lu"
   },
   "source": [
    "Importantion des modules. Il faut utiliser la version Python 3.5 au moins et aussi bien Scikit-Learn ≥0.20 and TensorFlow ≥2.0."
   ]
  },
  {
   "cell_type": "code",
   "execution_count": 1,
   "metadata": {
    "executionInfo": {
     "elapsed": 2843,
     "status": "ok",
     "timestamp": 1698610530318,
     "user": {
      "displayName": "abdenour bouzouane",
      "userId": "13912886875622348753"
     },
     "user_tz": 240
    },
    "id": "Ghkuooi1S7lv"
   },
   "outputs": [],
   "source": [
    "# Python ≥3.5 requis\n",
    "import sys\n",
    "assert sys.version_info >= (3, 5)\n",
    "\n",
    "\n",
    "# TensorFlow ≥2.0 requis\n",
    "import tensorflow as tf\n",
    "assert tf.__version__ >= \"2.0\"\n",
    "\n",
    "# imports commun\n",
    "import numpy as np\n",
    "import os\n",
    "\n",
    "# pour rendre stable l'exécution relativement aux nombres aléatoire générés.\n",
    "np.random.seed(42)\n",
    "\n",
    "# pour une meilleure visibilité des figures\n",
    "%matplotlib inline\n",
    "import matplotlib as mpl\n",
    "import matplotlib.pyplot as plt\n",
    "mpl.rc('axes', labelsize=14)\n",
    "mpl.rc('xtick', labelsize=12)\n",
    "mpl.rc('ytick', labelsize=12)\n",
    "\n",
    "#importation du module keras\n",
    "from tensorflow import keras\n",
    "\n"
   ]
  },
  {
   "cell_type": "markdown",
   "metadata": {
    "id": "IVbbXaVqS7l3"
   },
   "source": [
    "# Chargement des données\n",
    "Keras dispose de fonctions utilitaires pour récupérer et charger les jeux de données. Il y a une différence par rapport à scikit-learn, chaque image est représentée non pas sous forme d'un tableau à une dimension de 784 éléments, mais sous forme d'un tenseur en 3D. Par ailleurs, les intensités des pixels sont représentées par des entiers (de 0 à 255) plutôt que des nombres à virgule flottante (0.0 à 255.0).\n",
    "Le dataset est déjà divisé en jeu d'entrainement et jeu de test. Il est peut être judicieux de faire une autre division pour avoir un jeu de validation.\n"
   ]
  },
  {
   "cell_type": "code",
   "execution_count": 2,
   "metadata": {
    "colab": {
     "base_uri": "https://localhost:8080/"
    },
    "executionInfo": {
     "elapsed": 1784,
     "status": "ok",
     "timestamp": 1698610536529,
     "user": {
      "displayName": "abdenour bouzouane",
      "userId": "13912886875622348753"
     },
     "user_tz": 240
    },
    "id": "aLdxNmKGS7l5",
    "outputId": "e0575f98-7dd6-47f7-d944-3bec0c3c845a"
   },
   "outputs": [],
   "source": [
    "fashion_mnist = keras.datasets.fashion_mnist\n",
    "(X_train_full, y_train_full), (X_test, y_test) = fashion_mnist.load_data()"
   ]
  },
  {
   "cell_type": "markdown",
   "metadata": {
    "id": "IA99ZUy-S7l5"
   },
   "source": [
    "Le jeu d'entrainement contient 60.000 images à niveau de gris de 28X28 pixels:"
   ]
  },
  {
   "cell_type": "code",
   "execution_count": 3,
   "metadata": {
    "colab": {
     "base_uri": "https://localhost:8080/"
    },
    "executionInfo": {
     "elapsed": 192,
     "status": "ok",
     "timestamp": 1698610539325,
     "user": {
      "displayName": "abdenour bouzouane",
      "userId": "13912886875622348753"
     },
     "user_tz": 240
    },
    "id": "FOKeNCEUS7l5",
    "outputId": "25461cac-b697-4127-aae9-080dc1beb1f2"
   },
   "outputs": [
    {
     "data": {
      "text/plain": [
       "(60000, 28, 28)"
      ]
     },
     "execution_count": 3,
     "metadata": {},
     "output_type": "execute_result"
    }
   ],
   "source": [
    "X_train_full.shape"
   ]
  },
  {
   "cell_type": "markdown",
   "metadata": {
    "id": "TnjuaZHgS7l5"
   },
   "source": [
    "Chaque intensité du pixel est representé par un octet (0 to 255):"
   ]
  },
  {
   "cell_type": "code",
   "execution_count": 4,
   "metadata": {
    "colab": {
     "base_uri": "https://localhost:8080/"
    },
    "executionInfo": {
     "elapsed": 2,
     "status": "ok",
     "timestamp": 1698610541048,
     "user": {
      "displayName": "abdenour bouzouane",
      "userId": "13912886875622348753"
     },
     "user_tz": 240
    },
    "id": "TihZoCVBS7l6",
    "outputId": "17c84603-dd1a-4f4f-fef5-df76ccf564ff"
   },
   "outputs": [
    {
     "data": {
      "text/plain": [
       "dtype('uint8')"
      ]
     },
     "execution_count": 4,
     "metadata": {},
     "output_type": "execute_result"
    }
   ],
   "source": [
    "X_train_full.dtype"
   ]
  },
  {
   "cell_type": "markdown",
   "metadata": {
    "id": "IB6gBjWpS7l6"
   },
   "source": [
    "Créons un petit jeu de validation en divisant de nouveau le jeu d'entrainement.\n",
    "Puisque nous allons entrainer avec la descente du garident, nous allons mettre à l'échelle les variables d'entrée. Pour une question de simplicité, nous allons réduire les intensités de pixels à la plage 0-1 en divisant par 255,0 (cela convertit en nombres à virgile flottante):\n"
   ]
  },
  {
   "cell_type": "code",
   "execution_count": 5,
   "metadata": {
    "executionInfo": {
     "elapsed": 356,
     "status": "ok",
     "timestamp": 1698610543312,
     "user": {
      "displayName": "abdenour bouzouane",
      "userId": "13912886875622348753"
     },
     "user_tz": 240
    },
    "id": "soNaGpVES7l6"
   },
   "outputs": [],
   "source": [
    "X_valid, X_train = X_train_full[:5000] / 255., X_train_full[5000:] / 255.\n",
    "y_valid, y_train = y_train_full[:5000], y_train_full[5000:]\n",
    "X_test = X_test / 255."
   ]
  },
  {
   "cell_type": "markdown",
   "metadata": {
    "id": "wLBnr3qkS7l6"
   },
   "source": [
    "Vous pouvez visualisez une image la fonction imshow de Matplotlib:"
   ]
  },
  {
   "cell_type": "code",
   "execution_count": 6,
   "metadata": {
    "colab": {
     "base_uri": "https://localhost:8080/",
     "height": 406
    },
    "executionInfo": {
     "elapsed": 170,
     "status": "ok",
     "timestamp": 1698610579229,
     "user": {
      "displayName": "abdenour bouzouane",
      "userId": "13912886875622348753"
     },
     "user_tz": 240
    },
    "id": "aADLI-HPS7l6",
    "outputId": "af83dc63-fb20-4d0d-8e62-c35e121c146d"
   },
   "outputs": [
    {
     "data": {
      "image/png": "[encoded data removed]",
      "text/plain": [
       "<Figure size 640x480 with 1 Axes>"
      ]
     },
     "metadata": {},
     "output_type": "display_data"
    }
   ],
   "source": [
    "plt.imshow(X_train[0], cmap=\"binary\")\n",
    "plt.axis('off')\n",
    "plt.show()"
   ]
  },
  {
   "cell_type": "markdown",
   "metadata": {
    "id": "AT75hi-OS7l7"
   },
   "source": [
    "les labels (classes) sont représentés par des entiers d'Identification (ID) entre 0 et 9 :"
   ]
  },
  {
   "cell_type": "code",
   "execution_count": 7,
   "metadata": {
    "colab": {
     "base_uri": "https://localhost:8080/"
    },
    "executionInfo": {
     "elapsed": 158,
     "status": "ok",
     "timestamp": 1698610582662,
     "user": {
      "displayName": "abdenour bouzouane",
      "userId": "13912886875622348753"
     },
     "user_tz": 240
    },
    "id": "0vNmwcJYS7l7",
    "outputId": "091c91a0-01cc-4522-f545-10fc0990ba27"
   },
   "outputs": [
    {
     "data": {
      "text/plain": [
       "array([4, 0, 7, ..., 3, 0, 5], dtype=uint8)"
      ]
     },
     "execution_count": 7,
     "metadata": {},
     "output_type": "execute_result"
    }
   ],
   "source": [
    "y_train"
   ]
  },
  {
   "cell_type": "markdown",
   "metadata": {
    "id": "8JK3u7GVS7l7"
   },
   "source": [
    "Mais dans MNIST, lorsque l'étiquette est égale à 5, cela signifie que l'image représente le chiffre manuscrit 5. En revanche, avec Fashion MNIST, nous avons besoin de la liste des noms de classes pour savoir ce que nous manipulons. Voici les classes correspondantes :"
   ]
  },
  {
   "cell_type": "code",
   "execution_count": 8,
   "metadata": {
    "executionInfo": {
     "elapsed": 143,
     "status": "ok",
     "timestamp": 1698610584017,
     "user": {
      "displayName": "abdenour bouzouane",
      "userId": "13912886875622348753"
     },
     "user_tz": 240
    },
    "id": "R0BRBX-YS7l8"
   },
   "outputs": [],
   "source": [
    "class_names = [\"T-shirt/top\", \"Trouser\", \"Pullover\", \"Dress\", \"Coat\",\n",
    "               \"Sandal\", \"Shirt\", \"Sneaker\", \"Bag\", \"Ankle boot\"]"
   ]
  },
  {
   "cell_type": "markdown",
   "metadata": {
    "id": "NvI2sCqLS7l8"
   },
   "source": [
    "par exemple, la première image du jeu d'entraînement correspond à l'article coat:"
   ]
  },
  {
   "cell_type": "code",
   "execution_count": 9,
   "metadata": {
    "colab": {
     "base_uri": "https://localhost:8080/",
     "height": 35
    },
    "executionInfo": {
     "elapsed": 191,
     "status": "ok",
     "timestamp": 1698610585348,
     "user": {
      "displayName": "abdenour bouzouane",
      "userId": "13912886875622348753"
     },
     "user_tz": 240
    },
    "id": "nHb0DWLpS7l8",
    "outputId": "4bb41658-3961-4b46-a5c5-90de80c6df1e"
   },
   "outputs": [
    {
     "data": {
      "text/plain": [
       "'Coat'"
      ]
     },
     "execution_count": 9,
     "metadata": {},
     "output_type": "execute_result"
    }
   ],
   "source": [
    "class_names[y_train[0]]"
   ]
  },
  {
   "cell_type": "markdown",
   "metadata": {
    "id": "ORvWVEl7S7l9"
   },
   "source": [
    "le jeu de validation contient 5,000 images, et le jeu de test contient 10,000 images:"
   ]
  },
  {
   "cell_type": "code",
   "execution_count": 10,
   "metadata": {
    "colab": {
     "base_uri": "https://localhost:8080/"
    },
    "executionInfo": {
     "elapsed": 310,
     "status": "ok",
     "timestamp": 1698610587769,
     "user": {
      "displayName": "abdenour bouzouane",
      "userId": "13912886875622348753"
     },
     "user_tz": 240
    },
    "id": "NsKghVUPS7l9",
    "outputId": "e6784633-f88c-4a96-d3b0-eb24a8dfcca3"
   },
   "outputs": [
    {
     "data": {
      "text/plain": [
       "(5000, 28, 28)"
      ]
     },
     "execution_count": 10,
     "metadata": {},
     "output_type": "execute_result"
    }
   ],
   "source": [
    "X_valid.shape"
   ]
  },
  {
   "cell_type": "code",
   "execution_count": 11,
   "metadata": {
    "colab": {
     "base_uri": "https://localhost:8080/"
    },
    "executionInfo": {
     "elapsed": 206,
     "status": "ok",
     "timestamp": 1698610588877,
     "user": {
      "displayName": "abdenour bouzouane",
      "userId": "13912886875622348753"
     },
     "user_tz": 240
    },
    "id": "GqLly85WS7l9",
    "outputId": "974c4611-dc70-4661-8d52-12dc71dc0302"
   },
   "outputs": [
    {
     "data": {
      "text/plain": [
       "(10000, 28, 28)"
      ]
     },
     "execution_count": 11,
     "metadata": {},
     "output_type": "execute_result"
    }
   ],
   "source": [
    "X_test.shape"
   ]
  },
  {
   "cell_type": "markdown",
   "metadata": {
    "id": "iUZRPMalS7l-"
   },
   "source": [
    "Montrons quelques éléments du jeu de donnnées Fashion MNIST\n"
   ]
  },
  {
   "cell_type": "code",
   "execution_count": 12,
   "metadata": {
    "colab": {
     "base_uri": "https://localhost:8080/",
     "height": 428
    },
    "executionInfo": {
     "elapsed": 2860,
     "status": "ok",
     "timestamp": 1698610593316,
     "user": {
      "displayName": "abdenour bouzouane",
      "userId": "13912886875622348753"
     },
     "user_tz": 240
    },
    "id": "GY1eODgUS7l-",
    "outputId": "5c47b9d4-1e3e-4e0c-8981-ade84c227169"
   },
   "outputs": [
    {
     "data": {
      "image/png": "[encoded data removed]",
      "text/plain": [
       "<Figure size 1200x480 with 40 Axes>"
      ]
     },
     "metadata": {},
     "output_type": "display_data"
    }
   ],
   "source": [
    "n_rows = 4\n",
    "n_cols = 10\n",
    "plt.figure(figsize=(n_cols * 1.2, n_rows * 1.2))\n",
    "for row in range(n_rows):\n",
    "    for col in range(n_cols):\n",
    "        index = n_cols * row + col\n",
    "        plt.subplot(n_rows, n_cols, index + 1)\n",
    "        plt.imshow(X_train[index], cmap=\"binary\", interpolation=\"nearest\")\n",
    "        plt.axis('off')\n",
    "        plt.title(class_names[y_train[index]], fontsize=12)\n",
    "plt.subplots_adjust(wspace=0.2, hspace=0.5)\n",
    "plt.show()"
   ]
  },
  {
   "cell_type": "markdown",
   "metadata": {
    "id": "mAdFa7w9enab"
   },
   "source": [
    "Créons un modele PMC avec l'API Sequential.\n",
    "1. La premiere ligne du code crée un modèle Sequential. C'est la maniere la plus simple de créer un RNA avec keras. Il est constitué d'une seule pile de couches connectées sous forme séquentielle.\n",
    "2. Ensuite, nous ajoutons la couche Flatten-aplatissement- dans le but de convertir chaque image d'entrée en un tableau monodimensionnel\n",
    "3. Ensuite nous ajoutons une couche cachée de 300 neurones. Elle utilise la fonction d'activation ReLU.\n",
    "4. on ajoute une cachée Dense de 100 neurones, avec une fonction d'activation ReLU.\n",
    "5. Enfin une couche de sortie Dense avec 10 neurones (un par classe) en utilisant la fonction d'activation softmax."
   ]
  },
  {
   "cell_type": "code",
   "execution_count": 13,
   "metadata": {
    "executionInfo": {
     "elapsed": 4818,
     "status": "ok",
     "timestamp": 1698610607954,
     "user": {
      "displayName": "abdenour bouzouane",
      "userId": "13912886875622348753"
     },
     "user_tz": 240
    },
    "id": "FJoxUnPzS7l-"
   },
   "outputs": [],
   "source": [
    "model = keras.models.Sequential()\n",
    "model.add(keras.layers.Flatten(input_shape=[28, 28]))\n",
    "model.add(keras.layers.Dense(300, activation=\"relu\"))\n",
    "model.add(keras.layers.Dense(100, activation=\"relu\"))\n",
    "model.add(keras.layers.Dense(10, activation=\"softmax\"))"
   ]
  },
  {
   "cell_type": "code",
   "execution_count": 14,
   "metadata": {
    "executionInfo": {
     "elapsed": 2,
     "status": "ok",
     "timestamp": 1698610607954,
     "user": {
      "displayName": "abdenour bouzouane",
      "userId": "13912886875622348753"
     },
     "user_tz": 240
    },
    "id": "KLm2KzmSS7l_"
   },
   "outputs": [],
   "source": [
    "keras.backend.clear_session() # re-initialiser les états internes de tensorflow\n",
    "np.random.seed(42)\n",
    "tf.random.set_seed(42)"
   ]
  },
  {
   "cell_type": "markdown",
   "metadata": {
    "id": "Njtl1_cthzrT"
   },
   "source": [
    "Juste une alternative au lieu d'ajouter les couches une par une, nous pouvons passer une liste de couches au moment de la création du modèle Sequential :"
   ]
  },
  {
   "cell_type": "code",
   "execution_count": 15,
   "metadata": {
    "executionInfo": {
     "elapsed": 2,
     "status": "ok",
     "timestamp": 1698610607954,
     "user": {
      "displayName": "abdenour bouzouane",
      "userId": "13912886875622348753"
     },
     "user_tz": 240
    },
    "id": "rNoOBaW_S7l_"
   },
   "outputs": [],
   "source": [
    "model = keras.models.Sequential([\n",
    "    keras.layers.Flatten(input_shape=[28, 28]),\n",
    "    keras.layers.Dense(300, activation=\"relu\"),\n",
    "    keras.layers.Dense(100, activation=\"relu\"),\n",
    "    keras.layers.Dense(10, activation=\"softmax\")\n",
    "])"
   ]
  },
  {
   "cell_type": "code",
   "execution_count": 16,
   "metadata": {
    "colab": {
     "base_uri": "https://localhost:8080/"
    },
    "executionInfo": {
     "elapsed": 159,
     "status": "ok",
     "timestamp": 1698610614796,
     "user": {
      "displayName": "abdenour bouzouane",
      "userId": "13912886875622348753"
     },
     "user_tz": 240
    },
    "id": "sAlS4euCS7l_",
    "outputId": "578480c1-756c-4366-a805-490abc832453"
   },
   "outputs": [
    {
     "name": "stdout",
     "output_type": "stream",
     "text": [
      "Model: \"sequential\"\n",
      "_________________________________________________________________\n",
      " Layer (type)                Output Shape              Param #   \n",
      "=================================================================\n",
      " flatten (Flatten)           (None, 784)               0         \n",
      "                                                                 \n",
      " dense (Dense)               (None, 300)               235500    \n",
      "                                                                 \n",
      " dense_1 (Dense)             (None, 100)               30100     \n",
      "                                                                 \n",
      " dense_2 (Dense)             (None, 10)                1010      \n",
      "                                                                 \n",
      "=================================================================\n",
      "Total params: 266610 (1.02 MB)\n",
      "Trainable params: 266610 (1.02 MB)\n",
      "Non-trainable params: 0 (0.00 Byte)\n",
      "_________________________________________________________________\n"
     ]
    }
   ],
   "source": [
    "model.summary()"
   ]
  },
  {
   "cell_type": "markdown",
   "metadata": {
    "id": "wIsOoEAbumuu"
   },
   "source": [
    "Une fois que le modele a été créé, invoquer sa méthode compile() pour préciser:\n",
    "1. la fonction de perte\n",
    "2. optimiseur\n",
    "3. la mesure de sa performance\n"
   ]
  },
  {
   "cell_type": "code",
   "execution_count": 17,
   "metadata": {
    "executionInfo": {
     "elapsed": 140,
     "status": "ok",
     "timestamp": 1698610617937,
     "user": {
      "displayName": "abdenour bouzouane",
      "userId": "13912886875622348753"
     },
     "user_tz": 240
    },
    "id": "-3r-VQwiS7mE"
   },
   "outputs": [],
   "source": [
    "model.compile(loss=\"sparse_categorical_crossentropy\",\n",
    "              optimizer=\"sgd\",\n",
    "              metrics=[\"accuracy\"])"
   ]
  },
  {
   "cell_type": "markdown",
   "metadata": {
    "id": "XWvV2YKvS7mE"
   },
   "source": [
    "Entraînement du modèle en utilisant la fonction fit(). A ce niveau, on spécifie la matrice des données et le vecteur cible ainsi que le nombre d'époques, le jeu et validation.\n",
    "la fonction fit() retourne un objet history qui contient les paramètres d'entrainement, la liste des époques et le plus important, un dictionnaire\n",
    "(history.histroy) donnant la perte et les autres indicateurs de performance mesurés sur le jeu d'entrainement et de validation."
   ]
  },
  {
   "cell_type": "code",
   "execution_count": 18,
   "metadata": {
    "colab": {
     "base_uri": "https://localhost:8080/"
    },
    "executionInfo": {
     "elapsed": 180867,
     "status": "ok",
     "timestamp": 1698610802500,
     "user": {
      "displayName": "abdenour bouzouane",
      "userId": "13912886875622348753"
     },
     "user_tz": 240
    },
    "id": "G2chmuGyS7mF",
    "outputId": "f618739b-df87-4b3b-a199-be2cd68541a1"
   },
   "outputs": [
    {
     "name": "stdout",
     "output_type": "stream",
     "text": [
      "Epoch 1/30\n",
      "1719/1719 [==============================] - 6s 3ms/step - loss: 0.7310 - accuracy: 0.7613 - val_loss: 0.5232 - val_accuracy: 0.8250\n",
      "Epoch 2/30\n",
      "1719/1719 [==============================] - 5s 3ms/step - loss: 0.4919 - accuracy: 0.8288 - val_loss: 0.4345 - val_accuracy: 0.8516\n",
      "Epoch 3/30\n",
      "1719/1719 [==============================] - 5s 3ms/step - loss: 0.4459 - accuracy: 0.8427 - val_loss: 0.5574 - val_accuracy: 0.7908\n",
      "Epoch 4/30\n",
      "1719/1719 [==============================] - 5s 3ms/step - loss: 0.4190 - accuracy: 0.8531 - val_loss: 0.3958 - val_accuracy: 0.8660\n",
      "Epoch 5/30\n",
      "1719/1719 [==============================] - 4s 3ms/step - loss: 0.3999 - accuracy: 0.8594 - val_loss: 0.3784 - val_accuracy: 0.8702\n",
      "Epoch 6/30\n",
      "1719/1719 [==============================] - 4s 3ms/step - loss: 0.3807 - accuracy: 0.8650 - val_loss: 0.3746 - val_accuracy: 0.8750\n",
      "Epoch 7/30\n",
      "1719/1719 [==============================] - 4s 3ms/step - loss: 0.3680 - accuracy: 0.8701 - val_loss: 0.3640 - val_accuracy: 0.8746\n",
      "Epoch 8/30\n",
      "1719/1719 [==============================] - 4s 3ms/step - loss: 0.3560 - accuracy: 0.8736 - val_loss: 0.3867 - val_accuracy: 0.8618\n",
      "Epoch 9/30\n",
      "1719/1719 [==============================] - 5s 3ms/step - loss: 0.3451 - accuracy: 0.8775 - val_loss: 0.3544 - val_accuracy: 0.8756\n",
      "Epoch 10/30\n",
      "1719/1719 [==============================] - 4s 3ms/step - loss: 0.3356 - accuracy: 0.8815 - val_loss: 0.3463 - val_accuracy: 0.8794\n",
      "Epoch 11/30\n",
      "1719/1719 [==============================] - 4s 3ms/step - loss: 0.3271 - accuracy: 0.8831 - val_loss: 0.3436 - val_accuracy: 0.8830\n",
      "Epoch 12/30\n",
      "1719/1719 [==============================] - 5s 3ms/step - loss: 0.3179 - accuracy: 0.8847 - val_loss: 0.3328 - val_accuracy: 0.8846\n",
      "Epoch 13/30\n",
      "1719/1719 [==============================] - 5s 3ms/step - loss: 0.3102 - accuracy: 0.8891 - val_loss: 0.3265 - val_accuracy: 0.8892\n",
      "Epoch 14/30\n",
      "1719/1719 [==============================] - 5s 3ms/step - loss: 0.3040 - accuracy: 0.8905 - val_loss: 0.3470 - val_accuracy: 0.8734\n",
      "Epoch 15/30\n",
      "1719/1719 [==============================] - 5s 3ms/step - loss: 0.2963 - accuracy: 0.8938 - val_loss: 0.3266 - val_accuracy: 0.8846\n",
      "Epoch 16/30\n",
      "1719/1719 [==============================] - 5s 3ms/step - loss: 0.2910 - accuracy: 0.8956 - val_loss: 0.3119 - val_accuracy: 0.8910\n",
      "Epoch 17/30\n",
      "1719/1719 [==============================] - 5s 3ms/step - loss: 0.2852 - accuracy: 0.8970 - val_loss: 0.3631 - val_accuracy: 0.8732\n",
      "Epoch 18/30\n",
      "1719/1719 [==============================] - 5s 3ms/step - loss: 0.2794 - accuracy: 0.8988 - val_loss: 0.3111 - val_accuracy: 0.8932\n",
      "Epoch 19/30\n",
      "1719/1719 [==============================] - 5s 3ms/step - loss: 0.2740 - accuracy: 0.9018 - val_loss: 0.3117 - val_accuracy: 0.8940\n",
      "Epoch 20/30\n",
      "1719/1719 [==============================] - 5s 3ms/step - loss: 0.2688 - accuracy: 0.9032 - val_loss: 0.3310 - val_accuracy: 0.8806\n",
      "Epoch 21/30\n",
      "1719/1719 [==============================] - 5s 3ms/step - loss: 0.2631 - accuracy: 0.9062 - val_loss: 0.3050 - val_accuracy: 0.8906\n",
      "Epoch 22/30\n",
      "1719/1719 [==============================] - 5s 3ms/step - loss: 0.2586 - accuracy: 0.9073 - val_loss: 0.2958 - val_accuracy: 0.8946\n",
      "Epoch 23/30\n",
      "1719/1719 [==============================] - 5s 3ms/step - loss: 0.2543 - accuracy: 0.9083 - val_loss: 0.2989 - val_accuracy: 0.8948\n",
      "Epoch 24/30\n",
      "1719/1719 [==============================] - 5s 3ms/step - loss: 0.2496 - accuracy: 0.9094 - val_loss: 0.3061 - val_accuracy: 0.8892\n",
      "Epoch 25/30\n",
      "1719/1719 [==============================] - 5s 3ms/step - loss: 0.2451 - accuracy: 0.9106 - val_loss: 0.2988 - val_accuracy: 0.8934\n",
      "Epoch 26/30\n",
      "1719/1719 [==============================] - 5s 3ms/step - loss: 0.2410 - accuracy: 0.9140 - val_loss: 0.3048 - val_accuracy: 0.8920\n",
      "Epoch 27/30\n",
      "1719/1719 [==============================] - 5s 3ms/step - loss: 0.2375 - accuracy: 0.9150 - val_loss: 0.2954 - val_accuracy: 0.8942\n",
      "Epoch 28/30\n",
      "1719/1719 [==============================] - 5s 3ms/step - loss: 0.2336 - accuracy: 0.9160 - val_loss: 0.3017 - val_accuracy: 0.8952\n",
      "Epoch 29/30\n",
      "1719/1719 [==============================] - 5s 3ms/step - loss: 0.2290 - accuracy: 0.9176 - val_loss: 0.3121 - val_accuracy: 0.8904\n",
      "Epoch 30/30\n",
      "1719/1719 [==============================] - 5s 3ms/step - loss: 0.2255 - accuracy: 0.9194 - val_loss: 0.3104 - val_accuracy: 0.8944\n"
     ]
    }
   ],
   "source": [
    "history = model.fit(X_train, y_train, epochs=30,\n",
    "                    validation_data=(X_valid, y_valid))"
   ]
  },
  {
   "cell_type": "code",
   "execution_count": 19,
   "metadata": {
    "colab": {
     "base_uri": "https://localhost:8080/"
    },
    "executionInfo": {
     "elapsed": 367,
     "status": "ok",
     "timestamp": 1676774281553,
     "user": {
      "displayName": "abdenour bouzouane",
      "userId": "13912886875622348753"
     },
     "user_tz": 300
    },
    "id": "qwAKLwv9S7mF",
    "outputId": "1fc1b6df-14eb-4365-ee19-b62e494f828d"
   },
   "outputs": [
    {
     "data": {
      "text/plain": [
       "{'verbose': 1, 'epochs': 30, 'steps': 1719}"
      ]
     },
     "execution_count": 19,
     "metadata": {},
     "output_type": "execute_result"
    }
   ],
   "source": [
    "history.params"
   ]
  },
  {
   "cell_type": "code",
   "execution_count": 20,
   "metadata": {
    "colab": {
     "base_uri": "https://localhost:8080/"
    },
    "executionInfo": {
     "elapsed": 11,
     "status": "ok",
     "timestamp": 1676774284520,
     "user": {
      "displayName": "abdenour bouzouane",
      "userId": "13912886875622348753"
     },
     "user_tz": 300
    },
    "id": "eeuwSrITS7mG",
    "outputId": "09881bae-ac5c-4b03-89cb-e01c15e4d09e"
   },
   "outputs": [
    {
     "name": "stdout",
     "output_type": "stream",
     "text": [
      "[0, 1, 2, 3, 4, 5, 6, 7, 8, 9, 10, 11, 12, 13, 14, 15, 16, 17, 18, 19, 20, 21, 22, 23, 24, 25, 26, 27, 28, 29]\n"
     ]
    }
   ],
   "source": [
    "print(history.epoch)"
   ]
  },
  {
   "cell_type": "code",
   "execution_count": 21,
   "metadata": {
    "colab": {
     "base_uri": "https://localhost:8080/"
    },
    "executionInfo": {
     "elapsed": 324,
     "status": "ok",
     "timestamp": 1676774289428,
     "user": {
      "displayName": "abdenour bouzouane",
      "userId": "13912886875622348753"
     },
     "user_tz": 300
    },
    "id": "qXEg9dtfS7mG",
    "outputId": "4e3a9312-479a-412f-e74c-5efcdd3716e1"
   },
   "outputs": [
    {
     "data": {
      "text/plain": [
       "dict_keys(['loss', 'accuracy', 'val_loss', 'val_accuracy'])"
      ]
     },
     "execution_count": 21,
     "metadata": {},
     "output_type": "execute_result"
    }
   ],
   "source": [
    "history.history.keys()"
   ]
  },
  {
   "cell_type": "markdown",
   "metadata": {
    "id": "cW8B5oarYnge"
   },
   "source": [
    "En utilisant le dictionnaire de l'objet history retourné par la fonction fit(), on peut tracer le graphique des performances en fonction des époques."
   ]
  },
  {
   "cell_type": "code",
   "execution_count": 22,
   "metadata": {
    "colab": {
     "base_uri": "https://localhost:8080/",
     "height": 328
    },
    "executionInfo": {
     "elapsed": 21,
     "status": "ok",
     "timestamp": 1676774292162,
     "user": {
      "displayName": "abdenour bouzouane",
      "userId": "13912886875622348753"
     },
     "user_tz": 300
    },
    "id": "nncQ56SaS7mG",
    "outputId": "5774a575-4a5b-42d0-c9a3-6f86383cc1bf"
   },
   "outputs": [
    {
     "data": {
      "image/png": "[encoded data removed]",
      "text/plain": [
       "<Figure size 800x500 with 1 Axes>"
      ]
     },
     "metadata": {},
     "output_type": "display_data"
    }
   ],
   "source": [
    "import pandas as pd\n",
    "\n",
    "pd.DataFrame(history.history).plot(figsize=(8, 5))\n",
    "plt.grid(True)\n",
    "plt.gca().set_ylim(0, 1)\n",
    "plt.show()"
   ]
  },
  {
   "cell_type": "markdown",
   "metadata": {
    "id": "PgvodoHPY-Hv"
   },
   "source": [
    "Évaluation du modele sur le jeu de test. Il est fréquent d'obtenir des performances légèrement moins bonnes sur le jeu de test que sur le jeu de validation car les hyperparamètres sont ajustés non pas sur le jeu de test mais sur le jeu de validation. Il faut éviter d'ajuster les hyêrparamètres sur le jeu de test sinon votre estimation de l'erreur de généralisation sera alors trop optimiste."
   ]
  },
  {
   "cell_type": "code",
   "execution_count": 23,
   "metadata": {
    "colab": {
     "base_uri": "https://localhost:8080/"
    },
    "executionInfo": {
     "elapsed": 1041,
     "status": "ok",
     "timestamp": 1676774297542,
     "user": {
      "displayName": "abdenour bouzouane",
      "userId": "13912886875622348753"
     },
     "user_tz": 300
    },
    "id": "rBtObd4kS7mH",
    "outputId": "0e85fba0-1ec8-4723-c3a7-48f48207c140"
   },
   "outputs": [
    {
     "name": "stdout",
     "output_type": "stream",
     "text": [
      "313/313 [==============================] - 1s 2ms/step - loss: 0.3449 - accuracy: 0.8812\n"
     ]
    },
    {
     "data": {
      "text/plain": [
       "[0.3448698818683624, 0.8812000155448914]"
      ]
     },
     "execution_count": 23,
     "metadata": {},
     "output_type": "execute_result"
    }
   ],
   "source": [
    "model.evaluate(X_test, y_test)"
   ]
  },
  {
   "cell_type": "markdown",
   "metadata": {
    "id": "S9OlGjDPikLW"
   },
   "source": [
    "Nous pouvons par la suite utiliser la méthode prédite pour effectuer des prédictions sur de nouvelles observations. Comme nous n'avons pas de nouvelles\n",
    "instances, nous utilisons simplement les trois premières observations du jeu de test.\n",
    "Pour chaque observation, le modèle estime une probabilité par classe de la classe0 à la classe9. Par exemple, pour la premiere image de cette liste, il estime que la probabilité qu'elle soit de la classe 9 (bottine) est de 98%, celle de la classe 5 (sandalle) est de 1% et finalement celle de la classe 7 (basket) est de 1%. Les autres classes sont nulles."
   ]
  },
  {
   "cell_type": "code",
   "execution_count": 24,
   "metadata": {
    "colab": {
     "base_uri": "https://localhost:8080/"
    },
    "executionInfo": {
     "elapsed": 331,
     "status": "ok",
     "timestamp": 1676774815832,
     "user": {
      "displayName": "abdenour bouzouane",
      "userId": "13912886875622348753"
     },
     "user_tz": 300
    },
    "id": "9Xy_NJ5PS7mH",
    "outputId": "cadb05a9-eaa6-4acd-92b7-4328e5e7523e"
   },
   "outputs": [
    {
     "name": "stdout",
     "output_type": "stream",
     "text": [
      "1/1 [==============================] - 0s 75ms/step\n"
     ]
    },
    {
     "data": {
      "text/plain": [
       "array([[0.  , 0.  , 0.  , 0.  , 0.  , 0.04, 0.  , 0.02, 0.  , 0.94],\n",
       "       [0.  , 0.  , 1.  , 0.  , 0.  , 0.  , 0.  , 0.  , 0.  , 0.  ],\n",
       "       [0.  , 1.  , 0.  , 0.  , 0.  , 0.  , 0.  , 0.  , 0.  , 0.  ]],\n",
       "      dtype=float32)"
      ]
     },
     "execution_count": 24,
     "metadata": {},
     "output_type": "execute_result"
    }
   ],
   "source": [
    "X_new = X_test[:3]\n",
    "y_proba = model.predict(X_new)\n",
    "y_proba.round(2)"
   ]
  },
  {
   "cell_type": "markdown",
   "metadata": {
    "id": "aPAvhbWSosCR"
   },
   "source": [
    "Si nous intéressons uniquement à la classe dont la probabilité est la plus élevée (même si elle est relativement faible), nous utilisons àla place predict_classes()"
   ]
  },
  {
   "cell_type": "markdown",
   "metadata": {
    "id": "f3hqS9k3S7mH"
   },
   "source": [
    "**Warning**: model.predict_classes(X_new) is deprecated. It is replaced with  np.argmax(model.predict(X_new), axis=-1) ."
   ]
  },
  {
   "cell_type": "code",
   "execution_count": 25,
   "metadata": {
    "colab": {
     "base_uri": "https://localhost:8080/"
    },
    "executionInfo": {
     "elapsed": 343,
     "status": "ok",
     "timestamp": 1676775921803,
     "user": {
      "displayName": "abdenour bouzouane",
      "userId": "13912886875622348753"
     },
     "user_tz": 300
    },
    "id": "B-lP0fZGS7mI",
    "outputId": "5f3b430f-2b03-4032-b7b1-73beeae835ef"
   },
   "outputs": [
    {
     "name": "stdout",
     "output_type": "stream",
     "text": [
      "1/1 [==============================] - 0s 18ms/step\n"
     ]
    },
    {
     "data": {
      "text/plain": [
       "array([9, 2, 1], dtype=int64)"
      ]
     },
     "execution_count": 25,
     "metadata": {},
     "output_type": "execute_result"
    }
   ],
   "source": [
    "#y_pred = model.predict_classes(X_new) # deprecated\n",
    "y_pred = np.argmax(model.predict(X_new), axis=-1)\n",
    "y_pred"
   ]
  },
  {
   "cell_type": "code",
   "execution_count": 26,
   "metadata": {
    "colab": {
     "base_uri": "https://localhost:8080/"
    },
    "executionInfo": {
     "elapsed": 349,
     "status": "ok",
     "timestamp": 1676775930240,
     "user": {
      "displayName": "abdenour bouzouane",
      "userId": "13912886875622348753"
     },
     "user_tz": 300
    },
    "id": "JGD-EyybS7mI",
    "outputId": "27fefc45-0d1f-4870-ce57-4a56594bb26e"
   },
   "outputs": [
    {
     "data": {
      "text/plain": [
       "array(['Ankle boot', 'Pullover', 'Trouser'], dtype='<U11')"
      ]
     },
     "execution_count": 26,
     "metadata": {},
     "output_type": "execute_result"
    }
   ],
   "source": [
    "np.array(class_names)[y_pred]"
   ]
  },
  {
   "cell_type": "code",
   "execution_count": 27,
   "metadata": {
    "colab": {
     "base_uri": "https://localhost:8080/"
    },
    "executionInfo": {
     "elapsed": 325,
     "status": "ok",
     "timestamp": 1676776269510,
     "user": {
      "displayName": "abdenour bouzouane",
      "userId": "13912886875622348753"
     },
     "user_tz": 300
    },
    "id": "8Hfkd4_NS7mI",
    "outputId": "0113ff82-151d-4278-d01d-6619b3f7c83a"
   },
   "outputs": [
    {
     "data": {
      "text/plain": [
       "array([9, 2, 1], dtype=uint8)"
      ]
     },
     "execution_count": 27,
     "metadata": {},
     "output_type": "execute_result"
    }
   ],
   "source": [
    "y_new = y_test[:3]\n",
    "y_new"
   ]
  },
  {
   "cell_type": "markdown",
   "metadata": {
    "id": "-48MNIcwp3f_"
   },
   "source": [
    "La classeur réalise effectievement les bonnes prédictions: voici les résulats en affichant les images correspondantes:"
   ]
  },
  {
   "cell_type": "code",
   "execution_count": 28,
   "metadata": {
    "colab": {
     "base_uri": "https://localhost:8080/",
     "height": 165
    },
    "executionInfo": {
     "elapsed": 361,
     "status": "ok",
     "timestamp": 1676776205910,
     "user": {
      "displayName": "abdenour bouzouane",
      "userId": "13912886875622348753"
     },
     "user_tz": 300
    },
    "id": "onROBYKVS7mJ",
    "outputId": "9827ee7f-7f07-4921-e1ed-14a82d71e120"
   },
   "outputs": [
    {
     "data": {
      "image/png": "[encoded data removed]",
      "text/plain": [
       "<Figure size 720x240 with 3 Axes>"
      ]
     },
     "metadata": {},
     "output_type": "display_data"
    }
   ],
   "source": [
    "plt.figure(figsize=(7.2, 2.4))\n",
    "for index, image in enumerate(X_new):\n",
    "    plt.subplot(1, 3, index + 1)\n",
    "    plt.imshow(image, cmap=\"binary\", interpolation=\"nearest\")\n",
    "    plt.axis('off')\n",
    "    plt.title(class_names[y_test[index]], fontsize=12)\n",
    "plt.subplots_adjust(wspace=0.2, hspace=0.5)\n",
    "plt.show()"
   ]
  },
  {
   "cell_type": "code",
   "execution_count": null,
   "metadata": {
    "id": "lzmXHs7-g642"
   },
   "outputs": [],
   "source": []
  }
 ],
 "metadata": {
  "accelerator": "GPU",
  "colab": {
   "provenance": []
  },
  "gpuClass": "standard",
  "kernelspec": {
   "display_name": "Python 3 (ipykernel)",
   "language": "python",
   "name": "python3"
  },
  "language_info": {
   "codemirror_mode": {
    "name": "ipython",
    "version": 3
   },
   "file_extension": ".py",
   "mimetype": "text/x-python",
   "name": "python",
   "nbconvert_exporter": "python",
   "pygments_lexer": "ipython3",
   "version": "3.10.7"
  },
  "nav_menu": {
   "height": "264px",
   "width": "369px"
  },
  "toc": {
   "navigate_menu": true,
   "number_sections": true,
   "sideBar": true,
   "threshold": 6,
   "toc_cell": false,
   "toc_section_display": "block",
   "toc_window_display": false
  }
 },
 "nbformat": 4,
 "nbformat_minor": 4
}
