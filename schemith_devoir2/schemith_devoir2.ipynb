{
 "cells": [
  {
   "cell_type": "markdown",
   "id": "e8c2b4a9-cacb-4d4c-bbc9-87053e3fe19f",
   "metadata": {},
   "source": [
    "Jérémie SCHEMITH\n",
    "\n",
    "Suite au devoir 1 , nous avons un dataset clean et merged avec CountryGDP et CounrtyPopulation"
   ]
  },
  {
   "cell_type": "markdown",
   "id": "5ee89519-fa43-424a-817a-a570349721f9",
   "metadata": {},
   "source": [
    "# 2.1 - CLASSEUR BINAIRE"
   ]
  },
  {
   "cell_type": "code",
   "execution_count": 1,
   "id": "6de26e0e-1dfe-4406-9954-4ddbd57b865c",
   "metadata": {},
   "outputs": [
    {
     "data": {
      "text/html": [
       "<div>\n",
       "<style scoped>\n",
       "    .dataframe tbody tr th:only-of-type {\n",
       "        vertical-align: middle;\n",
       "    }\n",
       "\n",
       "    .dataframe tbody tr th {\n",
       "        vertical-align: top;\n",
       "    }\n",
       "\n",
       "    .dataframe thead th {\n",
       "        text-align: right;\n",
       "    }\n",
       "</style>\n",
       "<table border=\"1\" class=\"dataframe\">\n",
       "  <thead>\n",
       "    <tr style=\"text-align: right;\">\n",
       "      <th></th>\n",
       "      <th>age</th>\n",
       "      <th>pages</th>\n",
       "      <th>first_item_prize</th>\n",
       "      <th>gender</th>\n",
       "      <th>ReBuy</th>\n",
       "      <th>News_click</th>\n",
       "      <th>country</th>\n",
       "      <th>revenue</th>\n",
       "      <th>population</th>\n",
       "      <th>GDP_inhab</th>\n",
       "    </tr>\n",
       "  </thead>\n",
       "  <tbody>\n",
       "    <tr>\n",
       "      <th>0</th>\n",
       "      <td>41.0</td>\n",
       "      <td>6.000000</td>\n",
       "      <td>28.0</td>\n",
       "      <td>Fem</td>\n",
       "      <td>False</td>\n",
       "      <td>4.0</td>\n",
       "      <td>China</td>\n",
       "      <td>113.0</td>\n",
       "      <td>1360720000</td>\n",
       "      <td>9055</td>\n",
       "    </tr>\n",
       "    <tr>\n",
       "      <th>1</th>\n",
       "      <td>34.0</td>\n",
       "      <td>4.000000</td>\n",
       "      <td>15.5</td>\n",
       "      <td>Fem</td>\n",
       "      <td>True</td>\n",
       "      <td>2.0</td>\n",
       "      <td>China</td>\n",
       "      <td>36.0</td>\n",
       "      <td>1360720000</td>\n",
       "      <td>9055</td>\n",
       "    </tr>\n",
       "    <tr>\n",
       "      <th>2</th>\n",
       "      <td>38.0</td>\n",
       "      <td>5.000000</td>\n",
       "      <td>42.0</td>\n",
       "      <td>Fem</td>\n",
       "      <td>False</td>\n",
       "      <td>7.0</td>\n",
       "      <td>China</td>\n",
       "      <td>111.0</td>\n",
       "      <td>1360720000</td>\n",
       "      <td>9055</td>\n",
       "    </tr>\n",
       "    <tr>\n",
       "      <th>3</th>\n",
       "      <td>20.0</td>\n",
       "      <td>5.725134</td>\n",
       "      <td>44.0</td>\n",
       "      <td>Fem</td>\n",
       "      <td>False</td>\n",
       "      <td>2.0</td>\n",
       "      <td>China</td>\n",
       "      <td>71.0</td>\n",
       "      <td>1360720000</td>\n",
       "      <td>9055</td>\n",
       "    </tr>\n",
       "    <tr>\n",
       "      <th>4</th>\n",
       "      <td>39.0</td>\n",
       "      <td>10.000000</td>\n",
       "      <td>10.0</td>\n",
       "      <td>Fem</td>\n",
       "      <td>True</td>\n",
       "      <td>4.0</td>\n",
       "      <td>China</td>\n",
       "      <td>80.0</td>\n",
       "      <td>1360720000</td>\n",
       "      <td>9055</td>\n",
       "    </tr>\n",
       "  </tbody>\n",
       "</table>\n",
       "</div>"
      ],
      "text/plain": [
       "    age      pages  first_item_prize gender  ReBuy  News_click country  \\\n",
       "0  41.0   6.000000              28.0    Fem  False         4.0   China   \n",
       "1  34.0   4.000000              15.5    Fem   True         2.0   China   \n",
       "2  38.0   5.000000              42.0    Fem  False         7.0   China   \n",
       "3  20.0   5.725134              44.0    Fem  False         2.0   China   \n",
       "4  39.0  10.000000              10.0    Fem   True         4.0   China   \n",
       "\n",
       "   revenue  population  GDP_inhab  \n",
       "0    113.0  1360720000       9055  \n",
       "1     36.0  1360720000       9055  \n",
       "2    111.0  1360720000       9055  \n",
       "3     71.0  1360720000       9055  \n",
       "4     80.0  1360720000       9055  "
      ]
     },
     "execution_count": 1,
     "metadata": {},
     "output_type": "execute_result"
    }
   ],
   "source": [
    "#Chargement des modules commun\n",
    "import pandas as pd\n",
    "import numpy as np\n",
    "import matplotlib.pyplot as plt\n",
    "from sklearn.model_selection import train_test_split\n",
    "from sklearn.pipeline import Pipeline\n",
    "from sklearn.impute import SimpleImputer\n",
    "from sklearn.preprocessing import *\n",
    "from sklearn.compose import *\n",
    "\n",
    "data = pd.read_csv('devoir1_df.csv')\n",
    "\n",
    "data.head()"
   ]
  },
  {
   "cell_type": "markdown",
   "id": "624ef1a8-a636-4b6f-a38c-2f6e9decc94d",
   "metadata": {},
   "source": [
    "Nous allons séparé nos données car le dataset est entir ci dessus"
   ]
  },
  {
   "cell_type": "code",
   "execution_count": 2,
   "id": "5e8c568f-69e0-4d78-b38c-92a9252eaf5e",
   "metadata": {},
   "outputs": [],
   "source": [
    "from sklearn.model_selection import train_test_split\n",
    "train_set, test_set = train_test_split(data, test_size=0.2, \n",
    "                                       random_state=42)"
   ]
  },
  {
   "cell_type": "markdown",
   "id": "67bec72f-2292-4702-8edf-a10f9f97e11b",
   "metadata": {},
   "source": [
    "2.1.1 - Création de la fonction qui va transformer la variable revenue en variable binaire"
   ]
  },
  {
   "cell_type": "code",
   "execution_count": 3,
   "id": "bccbc4b7-2eca-4da9-ba91-e4558891a9e3",
   "metadata": {},
   "outputs": [
    {
     "data": {
      "text/html": [
       "<div>\n",
       "<style scoped>\n",
       "    .dataframe tbody tr th:only-of-type {\n",
       "        vertical-align: middle;\n",
       "    }\n",
       "\n",
       "    .dataframe tbody tr th {\n",
       "        vertical-align: top;\n",
       "    }\n",
       "\n",
       "    .dataframe thead th {\n",
       "        text-align: right;\n",
       "    }\n",
       "</style>\n",
       "<table border=\"1\" class=\"dataframe\">\n",
       "  <thead>\n",
       "    <tr style=\"text-align: right;\">\n",
       "      <th></th>\n",
       "      <th>age</th>\n",
       "      <th>pages</th>\n",
       "      <th>first_item_prize</th>\n",
       "      <th>gender</th>\n",
       "      <th>ReBuy</th>\n",
       "      <th>News_click</th>\n",
       "      <th>country</th>\n",
       "      <th>revenue</th>\n",
       "      <th>population</th>\n",
       "      <th>GDP_inhab</th>\n",
       "    </tr>\n",
       "  </thead>\n",
       "  <tbody>\n",
       "    <tr>\n",
       "      <th>9254</th>\n",
       "      <td>36.0</td>\n",
       "      <td>6.0</td>\n",
       "      <td>10.0</td>\n",
       "      <td>Masc</td>\n",
       "      <td>False</td>\n",
       "      <td>3.0</td>\n",
       "      <td>Ghana</td>\n",
       "      <td>0</td>\n",
       "      <td>24658823</td>\n",
       "      <td>3316</td>\n",
       "    </tr>\n",
       "    <tr>\n",
       "      <th>1561</th>\n",
       "      <td>36.0</td>\n",
       "      <td>6.0</td>\n",
       "      <td>22.0</td>\n",
       "      <td>Masc</td>\n",
       "      <td>True</td>\n",
       "      <td>4.0</td>\n",
       "      <td>Bangladesh</td>\n",
       "      <td>0</td>\n",
       "      <td>152518015</td>\n",
       "      <td>1963</td>\n",
       "    </tr>\n",
       "    <tr>\n",
       "      <th>1670</th>\n",
       "      <td>38.0</td>\n",
       "      <td>3.0</td>\n",
       "      <td>44.0</td>\n",
       "      <td>Fem</td>\n",
       "      <td>False</td>\n",
       "      <td>3.0</td>\n",
       "      <td>Russia</td>\n",
       "      <td>0</td>\n",
       "      <td>143700000</td>\n",
       "      <td>17518</td>\n",
       "    </tr>\n",
       "    <tr>\n",
       "      <th>6087</th>\n",
       "      <td>36.0</td>\n",
       "      <td>4.0</td>\n",
       "      <td>15.5</td>\n",
       "      <td>Masc</td>\n",
       "      <td>False</td>\n",
       "      <td>10.0</td>\n",
       "      <td>Argentina</td>\n",
       "      <td>1</td>\n",
       "      <td>41660096</td>\n",
       "      <td>17917</td>\n",
       "    </tr>\n",
       "    <tr>\n",
       "      <th>6669</th>\n",
       "      <td>40.0</td>\n",
       "      <td>4.0</td>\n",
       "      <td>15.5</td>\n",
       "      <td>Fem</td>\n",
       "      <td>False</td>\n",
       "      <td>7.0</td>\n",
       "      <td>Sudan</td>\n",
       "      <td>0</td>\n",
       "      <td>37964000</td>\n",
       "      <td>2549</td>\n",
       "    </tr>\n",
       "  </tbody>\n",
       "</table>\n",
       "</div>"
      ],
      "text/plain": [
       "       age  pages  first_item_prize gender  ReBuy  News_click     country  \\\n",
       "9254  36.0    6.0              10.0   Masc  False         3.0       Ghana   \n",
       "1561  36.0    6.0              22.0   Masc   True         4.0  Bangladesh   \n",
       "1670  38.0    3.0              44.0    Fem  False         3.0      Russia   \n",
       "6087  36.0    4.0              15.5   Masc  False        10.0   Argentina   \n",
       "6669  40.0    4.0              15.5    Fem  False         7.0       Sudan   \n",
       "\n",
       "      revenue  population  GDP_inhab  \n",
       "9254        0    24658823       3316  \n",
       "1561        0   152518015       1963  \n",
       "1670        0   143700000      17518  \n",
       "6087        1    41660096      17917  \n",
       "6669        0    37964000       2549  "
      ]
     },
     "execution_count": 3,
     "metadata": {},
     "output_type": "execute_result"
    }
   ],
   "source": [
    "def transformLabelIntoBinary(df: pd.DataFrame , targetedColumn='revenue') -> pd.DataFrame:\n",
    "    targetedMean = df[targetedColumn].mean()\n",
    "    new_df = df\n",
    "    new_df[targetedColumn] = np.where( df[targetedColumn] > targetedMean , 1 , 0)\n",
    "    return new_df\n",
    "\n",
    "train_set = transformLabelIntoBinary(train_set)\n",
    "train_set.head()"
   ]
  },
  {
   "cell_type": "markdown",
   "id": "268f166b-bcfd-4c6c-a17c-98e369f29fd9",
   "metadata": {},
   "source": [
    "2.1.2 - Echantillonage aléatoire startifié"
   ]
  },
  {
   "cell_type": "code",
   "execution_count": 4,
   "id": "ff8e84a3-7d61-4d85-a83a-2f2b58ad539b",
   "metadata": {},
   "outputs": [
    {
     "data": {
      "text/plain": [
       "age                 8000\n",
       "pages               8000\n",
       "first_item_prize    8000\n",
       "gender              8000\n",
       "ReBuy               8000\n",
       "News_click          8000\n",
       "country             8000\n",
       "revenue             8000\n",
       "population          8000\n",
       "GDP_inhab           8000\n",
       "dtype: int64"
      ]
     },
     "execution_count": 4,
     "metadata": {},
     "output_type": "execute_result"
    }
   ],
   "source": [
    "from sklearn.utils import resample\n",
    "\n",
    "train_set_without_GDP_POP = train_set.drop(['population','GDP_inhab'],axis=1)\n",
    "train_set_without_GDP = train_set.drop(['GDP_inhab'],axis=1)\n",
    "\n",
    "train_set.count()"
   ]
  },
  {
   "cell_type": "code",
   "execution_count": 5,
   "id": "94e9783a-1429-4d5a-a1e7-e7de5396b61e",
   "metadata": {},
   "outputs": [
    {
     "data": {
      "text/plain": [
       "age                 2000\n",
       "pages               2000\n",
       "first_item_prize    2000\n",
       "gender              2000\n",
       "ReBuy               2000\n",
       "News_click          2000\n",
       "country             2000\n",
       "revenue             2000\n",
       "population          2000\n",
       "GDP_inhab           2000\n",
       "dtype: int64"
      ]
     },
     "execution_count": 5,
     "metadata": {},
     "output_type": "execute_result"
    }
   ],
   "source": [
    "# Ici nous pouvons choisir le nombre d'échantillons que l'on souhaite 2000, 4000,8000 ...\n",
    "# je l'ai fait que pour 2000 car cela était fastidieux de plus les résultats ne changent pas\n",
    "\n",
    "def getStartifiedResampled(df: pd.DataFrame,number_samples=2000, targetedColumn='revenue') -> pd.DataFrame:\n",
    "    resampled_df = resample(df, n_samples=number_samples, replace=False, stratify=df[targetedColumn], random_state=5)\n",
    "    return resampled_df\n",
    "\n",
    "train_set_without_GDP_POP_resampled = getStartifiedResampled(train_set_without_GDP_POP)\n",
    "train_set_without_GDP_resampled = getStartifiedResampled(train_set_without_GDP)\n",
    "train_set_resampled = getStartifiedResampled(train_set)\n",
    "train_set_resampled.count()"
   ]
  },
  {
   "cell_type": "markdown",
   "id": "32743cfa-580e-4a52-89b8-c1a31137fd0d",
   "metadata": {},
   "source": [
    "2.1.3 - Training et test par Cross Validation"
   ]
  },
  {
   "cell_type": "code",
   "execution_count": 6,
   "id": "6b755fd4-3611-4c0a-89de-997603702665",
   "metadata": {},
   "outputs": [
    {
     "name": "stdout",
     "output_type": "stream",
     "text": [
      "<class 'pandas.core.frame.DataFrame'>\n",
      "Index: 2000 entries, 5965 to 6272\n",
      "Data columns (total 10 columns):\n",
      " #   Column            Non-Null Count  Dtype  \n",
      "---  ------            --------------  -----  \n",
      " 0   age               2000 non-null   float64\n",
      " 1   pages             2000 non-null   float64\n",
      " 2   first_item_prize  2000 non-null   float64\n",
      " 3   gender            2000 non-null   object \n",
      " 4   ReBuy             2000 non-null   bool   \n",
      " 5   News_click        2000 non-null   float64\n",
      " 6   country           2000 non-null   object \n",
      " 7   revenue           2000 non-null   int32  \n",
      " 8   population        2000 non-null   int64  \n",
      " 9   GDP_inhab         2000 non-null   int64  \n",
      "dtypes: bool(1), float64(4), int32(1), int64(2), object(2)\n",
      "memory usage: 150.4+ KB\n"
     ]
    }
   ],
   "source": [
    "train_set_resampled.info()"
   ]
  },
  {
   "cell_type": "code",
   "execution_count": 7,
   "id": "ec69105c-fa59-4a82-8943-e5b5f14e0c4f",
   "metadata": {},
   "outputs": [],
   "source": [
    "train_set_resampled_E = pd.get_dummies(train_set_resampled[train_set_resampled.columns[:-1]])\n"
   ]
  },
  {
   "cell_type": "code",
   "execution_count": 8,
   "id": "95b28d8e-6758-42c0-9966-dd987fab7052",
   "metadata": {},
   "outputs": [
    {
     "name": "stdout",
     "output_type": "stream",
     "text": [
      "<class 'pandas.core.frame.DataFrame'>\n",
      "Index: 2000 entries, 5965 to 6272\n",
      "Data columns (total 59 columns):\n",
      " #   Column                  Non-Null Count  Dtype  \n",
      "---  ------                  --------------  -----  \n",
      " 0   age                     2000 non-null   float64\n",
      " 1   pages                   2000 non-null   float64\n",
      " 2   first_item_prize        2000 non-null   float64\n",
      " 3   ReBuy                   2000 non-null   bool   \n",
      " 4   News_click              2000 non-null   float64\n",
      " 5   revenue                 2000 non-null   int32  \n",
      " 6   population              2000 non-null   int64  \n",
      " 7   gender_Fem              2000 non-null   bool   \n",
      " 8   gender_Masc             2000 non-null   bool   \n",
      " 9   country_Afghanistan     2000 non-null   bool   \n",
      " 10  country_Algeria         2000 non-null   bool   \n",
      " 11  country_Argentina       2000 non-null   bool   \n",
      " 12  country_Australia       2000 non-null   bool   \n",
      " 13  country_Bangladesh      2000 non-null   bool   \n",
      " 14  country_Brazil          2000 non-null   bool   \n",
      " 15  country_Burma           2000 non-null   bool   \n",
      " 16  country_Canada          2000 non-null   bool   \n",
      " 17  country_China           2000 non-null   bool   \n",
      " 18  country_Colombia        2000 non-null   bool   \n",
      " 19  country_Egypt           2000 non-null   bool   \n",
      " 20  country_Ethiopia        2000 non-null   bool   \n",
      " 21  country_France          2000 non-null   bool   \n",
      " 22  country_Germany         2000 non-null   bool   \n",
      " 23  country_Ghana           2000 non-null   bool   \n",
      " 24  country_India           2000 non-null   bool   \n",
      " 25  country_Indonesia       2000 non-null   bool   \n",
      " 26  country_Iran            2000 non-null   bool   \n",
      " 27  country_Iraq            2000 non-null   bool   \n",
      " 28  country_Italy           2000 non-null   bool   \n",
      " 29  country_Japan           2000 non-null   bool   \n",
      " 30  country_Kenya           2000 non-null   bool   \n",
      " 31  country_Malaysia        2000 non-null   bool   \n",
      " 32  country_Mexico          2000 non-null   bool   \n",
      " 33  country_Morocco         2000 non-null   bool   \n",
      " 34  country_Mozambique      2000 non-null   bool   \n",
      " 35  country_Nepal           2000 non-null   bool   \n",
      " 36  country_Nigeria         2000 non-null   bool   \n",
      " 37  country_Pakistan        2000 non-null   bool   \n",
      " 38  country_Peru            2000 non-null   bool   \n",
      " 39  country_Philippines     2000 non-null   bool   \n",
      " 40  country_Poland          2000 non-null   bool   \n",
      " 41  country_Russia          2000 non-null   bool   \n",
      " 42  country_Saudi Arabia    2000 non-null   bool   \n",
      " 43  country_South Africa    2000 non-null   bool   \n",
      " 44  country_South Korea     2000 non-null   bool   \n",
      " 45  country_Spain           2000 non-null   bool   \n",
      " 46  country_Sudan           2000 non-null   bool   \n",
      " 47  country_Taiwan          2000 non-null   bool   \n",
      " 48  country_Tanzania        2000 non-null   bool   \n",
      " 49  country_Thailand        2000 non-null   bool   \n",
      " 50  country_Turkey          2000 non-null   bool   \n",
      " 51  country_Uganda          2000 non-null   bool   \n",
      " 52  country_Ukraine         2000 non-null   bool   \n",
      " 53  country_United Kingdom  2000 non-null   bool   \n",
      " 54  country_United States   2000 non-null   bool   \n",
      " 55  country_Uzbekistan      2000 non-null   bool   \n",
      " 56  country_Venezuela       2000 non-null   bool   \n",
      " 57  country_Vietnam         2000 non-null   bool   \n",
      " 58  country_Yemen           2000 non-null   bool   \n",
      "dtypes: bool(53), float64(4), int32(1), int64(1)\n",
      "memory usage: 205.1 KB\n"
     ]
    }
   ],
   "source": [
    "train_set_resampled_E.info()"
   ]
  },
  {
   "cell_type": "code",
   "execution_count": 9,
   "id": "736e44ec-068b-49c0-ae71-32ce93ff2509",
   "metadata": {},
   "outputs": [],
   "source": [
    "train_set_resampled_E['class'] = train_set_resampled_E['revenue']"
   ]
  },
  {
   "cell_type": "code",
   "execution_count": 10,
   "id": "e6f40626-2eb3-448e-96d2-973525440825",
   "metadata": {},
   "outputs": [
    {
     "data": {
      "text/plain": [
       "array([1., 1., 1.])"
      ]
     },
     "execution_count": 10,
     "metadata": {},
     "output_type": "execute_result"
    }
   ],
   "source": [
    "X_train=train_set_resampled_E.iloc[:,:-1]\n",
    "y_train=train_set_resampled_E['class']\n",
    "from sklearn.tree import DecisionTreeClassifier\n",
    "from sklearn.model_selection import cross_val_score\n",
    "clf= DecisionTreeClassifier(criterion=\"entropy\")\n",
    "\n",
    "cross_val_score(clf, X_train, y_train, cv=3, scoring=\"accuracy\")\n"
   ]
  },
  {
   "cell_type": "code",
   "execution_count": 11,
   "id": "664f3bff-a32d-4ef8-8de3-0bc1da5a240d",
   "metadata": {},
   "outputs": [],
   "source": [
    "from sklearn.model_selection import cross_val_predict\n",
    "y_pred = cross_val_predict(clf, X_train, y_train, cv=3)"
   ]
  },
  {
   "cell_type": "code",
   "execution_count": 12,
   "id": "0b51dcab-c92d-4d17-a3e5-2e7ab9d24871",
   "metadata": {},
   "outputs": [
    {
     "name": "stdout",
     "output_type": "stream",
     "text": [
      "[[1195    0]\n",
      " [   0  805]]\n"
     ]
    }
   ],
   "source": [
    "from sklearn import metrics\n",
    "print(metrics.confusion_matrix(y_train,y_pred))"
   ]
  },
  {
   "cell_type": "code",
   "execution_count": 13,
   "id": "e57978a9-4cf9-4f9e-94e5-4a9484ce392d",
   "metadata": {},
   "outputs": [],
   "source": [
    "# Automatisation de l'entrainement avec la validation croisée pour les autres échatillons\n",
    "# R : Resampled / E: Categorical columns Encoded / K : variable petit k\n",
    "def trainingAndCrossValidation(df: pd.DataFrame, k=3):\n",
    "    df_E = pd.get_dummies(df[df.columns[:]])\n",
    "    df_E['class'] = df_E['revenue']\n",
    "    X_train=df_E.iloc[:,:-1]\n",
    "    y_train=df_E['class']\n",
    "    clf= DecisionTreeClassifier(criterion=\"entropy\")\n",
    "    cross_val_score(clf, X_train, y_train, cv=k, scoring=\"accuracy\")\n",
    "    y_pred = cross_val_predict(clf, X_train, y_train, cv=k)\n",
    "    return X_train,y_train,y_pred\n",
    "\n",
    "X_trainRE_K3,y_trainRE_K3,y_predRE_K3 = trainingAndCrossValidation(train_set_resampled)\n",
    "X_trainRE_K10,y_trainRE_K10,y_predRE_K10 = trainingAndCrossValidation(train_set_resampled,k=10)\n",
    "\n",
    "X_train_without_GDP_RE_K3,y_train_without_GDP_RE_K3,y_pred_without_GDP_RE_K3 = trainingAndCrossValidation(train_set_without_GDP_resampled)\n",
    "X_train_without_GDP_RE_K10,y_train_without_GDP_RE_K10,y_pred_without_GDP_RE_K10 = trainingAndCrossValidation(train_set_without_GDP_resampled,k=10)\n",
    "\n",
    "X_train_without_GDP_POP_RE_K3,y_train_without_GDP_POP_RE_K3,y_pred_without_GDP_POP_RE_K3 = trainingAndCrossValidation(train_set_without_GDP_POP_resampled)\n",
    "X_train_without_GDP_POP_RE_K10,y_train_without_GDP_POP_RE_K10,y_pred_without_GDP_POP_RE_K10 = trainingAndCrossValidation(train_set_without_GDP_POP_resampled,k=10)\n",
    "\n"
   ]
  },
  {
   "cell_type": "markdown",
   "id": "66936ce7-6705-462e-ada0-d941c073fc24",
   "metadata": {},
   "source": [
    "2.1.4 - Mesurer les métriques de précision, rappel et F1-Mesure"
   ]
  },
  {
   "cell_type": "code",
   "execution_count": 14,
   "id": "212a7fe0-6134-4bb4-8688-9715e07deba2",
   "metadata": {},
   "outputs": [
    {
     "name": "stdout",
     "output_type": "stream",
     "text": [
      "Precision: 1.0\n",
      "Recall: 1.0\n",
      "F1 Score: 1.0\n",
      "Confusion Matrix:\n",
      "[[1195    0]\n",
      " [   0  805]]\n"
     ]
    }
   ],
   "source": [
    "\n",
    "from sklearn.metrics import precision_score, recall_score, f1_score, confusion_matrix\n",
    "\n",
    "def print_scores(y_true, y_pred):\n",
    "    precision = precision_score(y_true, y_pred)\n",
    "    recall = recall_score(y_true, y_pred)\n",
    "    f1 = f1_score(y_true, y_pred)\n",
    "    conf_matrix = confusion_matrix(y_true, y_pred)\n",
    "    \n",
    "    print(f'Precision: {precision}')\n",
    "    print(f'Recall: {recall}')\n",
    "    print(f'F1 Score: {f1}')\n",
    "    print(f'Confusion Matrix:\\n{conf_matrix}')\n",
    "\n",
    "print_scores(y_trainRE_K3,y_predRE_K3)"
   ]
  },
  {
   "cell_type": "code",
   "execution_count": 15,
   "id": "0fc2b21a-ab06-41e6-b13c-77c49fbd0bae",
   "metadata": {},
   "outputs": [
    {
     "name": "stdout",
     "output_type": "stream",
     "text": [
      "Precision: 1.0\n",
      "Recall: 1.0\n",
      "F1 Score: 1.0\n",
      "Confusion Matrix:\n",
      "[[1195    0]\n",
      " [   0  805]]\n"
     ]
    }
   ],
   "source": [
    "print_scores(y_trainRE_K10,y_predRE_K10)"
   ]
  },
  {
   "cell_type": "code",
   "execution_count": 16,
   "id": "6561367e-76dd-4526-bbe8-343453408710",
   "metadata": {},
   "outputs": [
    {
     "name": "stdout",
     "output_type": "stream",
     "text": [
      "Precision: 1.0\n",
      "Recall: 1.0\n",
      "F1 Score: 1.0\n",
      "Confusion Matrix:\n",
      "[[1195    0]\n",
      " [   0  805]]\n"
     ]
    }
   ],
   "source": [
    "print_scores(y_train_without_GDP_RE_K10,y_pred_without_GDP_RE_K10)"
   ]
  },
  {
   "cell_type": "code",
   "execution_count": 17,
   "id": "a2687771-aa42-4f61-9ba6-49ed01271030",
   "metadata": {},
   "outputs": [
    {
     "name": "stdout",
     "output_type": "stream",
     "text": [
      "Precision: 1.0\n",
      "Recall: 1.0\n",
      "F1 Score: 1.0\n",
      "Confusion Matrix:\n",
      "[[1195    0]\n",
      " [   0  805]]\n"
     ]
    }
   ],
   "source": [
    "print_scores(y_train_without_GDP_RE_K3,y_pred_without_GDP_RE_K3)"
   ]
  },
  {
   "cell_type": "markdown",
   "id": "006cd71e-aef6-479f-b965-91517e2fd205",
   "metadata": {},
   "source": [
    "2.1.5 - Optimisation des hyper-paramètres "
   ]
  },
  {
   "cell_type": "code",
   "execution_count": 18,
   "id": "82324f12-1c26-4f36-a0c4-b216ff3d22b2",
   "metadata": {},
   "outputs": [
    {
     "name": "stdout",
     "output_type": "stream",
     "text": [
      "Fitting 10 folds for each of 72 candidates, totalling 720 fits\n",
      "DecisionTreeClassifier(criterion='entropy', max_depth=2, min_samples_split=5)\n"
     ]
    }
   ],
   "source": [
    "from sklearn.model_selection import GridSearchCV\n",
    "\n",
    "params = {'max_depth': list(range(2, 20)), 'min_samples_split': [5,10, 15, 20]}\n",
    "\n",
    "def estimateBestParameters(params,X_train,y_train):\n",
    "    grid_search_cv = GridSearchCV(DecisionTreeClassifier(criterion='entropy'), \n",
    "                                  params, n_jobs=-1, verbose=1, cv=10)\n",
    "    grid_search_cv.fit(X_train, y_train)\n",
    "    print(grid_search_cv.best_estimator_)\n",
    "    return grid_search_cv\n",
    "\n",
    "gridSearchtrainRE_K10 = estimateBestParameters(params, X_trainRE_K10, y_trainRE_K10)"
   ]
  },
  {
   "cell_type": "code",
   "execution_count": 19,
   "id": "db3c4574-a9f7-4a70-9646-26d871fbeb10",
   "metadata": {},
   "outputs": [
    {
     "name": "stdout",
     "output_type": "stream",
     "text": [
      "Fitting 10 folds for each of 72 candidates, totalling 720 fits\n",
      "DecisionTreeClassifier(criterion='entropy', max_depth=2, min_samples_split=5)\n"
     ]
    }
   ],
   "source": [
    "gridSearchtrain_without_GDP_RE_K10 = estimateBestParameters(params, X_train_without_GDP_RE_K10, y_train_without_GDP_RE_K10)"
   ]
  },
  {
   "cell_type": "markdown",
   "id": "a1e5d9d9-e2da-4033-bf0d-fb300b7df8f6",
   "metadata": {},
   "source": [
    "2.1.6 - Validation avec un Jeu de Test "
   ]
  },
  {
   "cell_type": "code",
   "execution_count": 20,
   "id": "3ee9579d-561c-4084-ae7c-60e075e36c29",
   "metadata": {},
   "outputs": [
    {
     "data": {
      "text/plain": [
       "class\n",
       "0    0.576\n",
       "1    0.424\n",
       "Name: proportion, dtype: float64"
      ]
     },
     "execution_count": 20,
     "metadata": {},
     "output_type": "execute_result"
    }
   ],
   "source": [
    "df_test = transformLabelIntoBinary(test_set)\n",
    "df_test = pd.get_dummies(df_test[df_test.columns[:]])\n",
    "df_test['class'] = df_test['revenue']\n",
    "df_test['class'].value_counts(normalize=True)"
   ]
  },
  {
   "cell_type": "code",
   "execution_count": 21,
   "id": "a4db5cbf-ddee-4b6e-8c95-e5d3de79016f",
   "metadata": {},
   "outputs": [
    {
     "name": "stdout",
     "output_type": "stream",
     "text": [
      "Precision: 1.0\n",
      "Recall: 1.0\n",
      "F1 Score: 1.0\n",
      "Confusion Matrix:\n",
      "[[1152    0]\n",
      " [   0  848]]\n"
     ]
    }
   ],
   "source": [
    "X_test=df_test.iloc[:,:-1]\n",
    "y_test=df_test['class']\n",
    "y_pred = gridSearchtrainRE_K10.predict(X_test)\n",
    "print_scores(y_pred,y_test)"
   ]
  },
  {
   "cell_type": "code",
   "execution_count": 22,
   "id": "7feac054-e321-4d84-b958-7f177a108013",
   "metadata": {},
   "outputs": [
    {
     "name": "stdout",
     "output_type": "stream",
     "text": [
      "Precision: 1.0\n",
      "Recall: 1.0\n",
      "F1 Score: 1.0\n",
      "Confusion Matrix:\n",
      "[[1152    0]\n",
      " [   0  848]]\n"
     ]
    }
   ],
   "source": [
    "df_test = test_set.drop('GDP_inhab',axis=1)\n",
    "df_test = transformLabelIntoBinary(df_test)\n",
    "df_test = pd.get_dummies(df_test[df_test.columns[:]])\n",
    "df_test['class'] = df_test['revenue']\n",
    "X_test_without_GDP=df_test.iloc[:,:-1]\n",
    "y_test_without_GDP= df_test['class']\n",
    "y_pred_without_GDP = gridSearchtrain_without_GDP_RE_K10.predict(X_test_without_GDP)\n",
    "print_scores(y_pred_without_GDP,y_test_without_GDP)\n"
   ]
  },
  {
   "cell_type": "markdown",
   "id": "21603e53-0b9b-4b1c-b70c-35e3337cdfcc",
   "metadata": {},
   "source": [
    "2.1.7 - Tableaux"
   ]
  },
  {
   "cell_type": "code",
   "execution_count": 23,
   "id": "14bee65e-f85b-484e-b5db-4a9ba6d7a099",
   "metadata": {},
   "outputs": [
    {
     "name": "stdout",
     "output_type": "stream",
     "text": [
      "              precision    recall  f1-score   support\n",
      "\n",
      "           0       1.00      1.00      1.00      1152\n",
      "           1       1.00      1.00      1.00       848\n",
      "\n",
      "    accuracy                           1.00      2000\n",
      "   macro avg       1.00      1.00      1.00      2000\n",
      "weighted avg       1.00      1.00      1.00      2000\n",
      "\n"
     ]
    }
   ],
   "source": [
    "print(metrics.classification_report(y_test,y_pred))"
   ]
  },
  {
   "cell_type": "code",
   "execution_count": 24,
   "id": "866b6c58-2ef2-4830-a8d4-ae2e7d1b371a",
   "metadata": {},
   "outputs": [
    {
     "name": "stdout",
     "output_type": "stream",
     "text": [
      "              precision    recall  f1-score   support\n",
      "\n",
      "           0       1.00      1.00      1.00      1152\n",
      "           1       1.00      1.00      1.00       848\n",
      "\n",
      "    accuracy                           1.00      2000\n",
      "   macro avg       1.00      1.00      1.00      2000\n",
      "weighted avg       1.00      1.00      1.00      2000\n",
      "\n"
     ]
    }
   ],
   "source": [
    "print(metrics.classification_report(y_test_without_GDP,y_pred_without_GDP))"
   ]
  },
  {
   "cell_type": "markdown",
   "id": "59de25d4-3d99-45e0-85fd-cca67d4fcadb",
   "metadata": {},
   "source": [
    "# 2.2 - CLASSEUR MULTI-CLASS"
   ]
  },
  {
   "cell_type": "markdown",
   "id": "56fdbd44-7fac-4f49-a671-2223187f7d4a",
   "metadata": {},
   "source": [
    "2.2.1 - Vous devez écrire une fonction pour remplacer cette variable « revenu » par une \n",
    "variable multi-classes selon les trois catégories de revenu"
   ]
  },
  {
   "cell_type": "code",
   "execution_count": 25,
   "id": "7298be7f-371f-4b94-8bbe-f4d3f1fad3e0",
   "metadata": {},
   "outputs": [
    {
     "name": "stdout",
     "output_type": "stream",
     "text": [
      "Tresholds -2.0 | 2.0\n",
      "0 for low revnue ::: 1 for mid_revenue ::: 2 for high_revenue\n"
     ]
    },
    {
     "data": {
      "text/plain": [
       "revenue\n",
       "1    7736\n",
       "0     157\n",
       "2     107\n",
       "Name: count, dtype: int64"
      ]
     },
     "execution_count": 25,
     "metadata": {},
     "output_type": "execute_result"
    }
   ],
   "source": [
    "from sklearn.preprocessing import PowerTransformer\n",
    "from sklearn.preprocessing import OneHotEncoder\n",
    "\n",
    "train_set, test_set = train_test_split(data, test_size=0.2, \n",
    "                                       random_state=42)\n",
    "\n",
    "def transformLabelIntoMultiClass(df: pd.DataFrame):\n",
    "    X = df.drop('revenue', axis=1)\n",
    "    y = df['revenue']\n",
    "    \n",
    "    # Apply the transformation to make the distribution more normal\n",
    "    pt = PowerTransformer()\n",
    "    y_transformed = pt.fit_transform(y.values.reshape(-1, 1))\n",
    "    \n",
    "    # Calculate the mean (M) and standard deviation (E) of the new distribution\n",
    "    M = y_transformed.mean()\n",
    "    E = y_transformed.std()\n",
    "    \n",
    "    min_trshld = M - 2 * E\n",
    "    max_trshld = M + 2 * E\n",
    "    print(f\"Tresholds {min_trshld} | {max_trshld}\")\n",
    "    # Use np.where to create a new column 'revenue_category' based on conditions\n",
    "    df['revenue'] = np.where(y_transformed < min_trshld, 0,\n",
    "                                      np.where(y_transformed > max_trshld, 2, 1))\n",
    "    \n",
    "    return df\n",
    "\n",
    "train_set = transformLabelIntoMultiClass(train_set)\n",
    "print('0 for low revnue ::: 1 for mid_revenue ::: 2 for high_revenue')\n",
    "train_set['revenue'].value_counts()\n"
   ]
  },
  {
   "cell_type": "markdown",
   "id": "a5701213-13d3-4a00-acb0-f5cda027b16f",
   "metadata": {},
   "source": [
    "2.2.2 - Quel est le meilleur classeur pouvant discriminer les 3 revenus et justifiez votre \n",
    "réponse"
   ]
  },
  {
   "cell_type": "markdown",
   "id": "b4a4611a-8f0a-46cd-b496-3779938c18f4",
   "metadata": {},
   "source": [
    "Nous allons tester avec k=3 premièrement"
   ]
  },
  {
   "cell_type": "code",
   "execution_count": null,
   "id": "e530e84f-3e4e-4a75-b741-3b9deea8f0ca",
   "metadata": {},
   "outputs": [],
   "source": [
    "train_set = pd.get_dummies(train_set[train_set.columns[:-1]])\n",
    "X_train=train_set.iloc[:,:-1]\n",
    "train_set['class'] = train_set['revenue']\n",
    "y_train=train_set['class']\n",
    "from sklearn.tree import DecisionTreeClassifier\n",
    "from sklearn.model_selection import cross_val_score\n",
    "clf= DecisionTreeClassifier(criterion=\"entropy\")\n",
    "\n",
    "cross_val_score(clf, X_train, y_train, cv=3, scoring=\"accuracy\")\n",
    "from sklearn.model_selection import cross_val_predict\n",
    "y_pred = cross_val_predict(clf, X_train, y_train, cv=3)\n",
    "print(metrics.confusion_matrix(y_train,y_pred))"
   ]
  },
  {
   "cell_type": "code",
   "execution_count": null,
   "id": "405edeba-d764-4f25-8955-76cc7a2c412d",
   "metadata": {},
   "outputs": [],
   "source": [
    "test_set = transformLabelIntoMultiClass(test_set)\n",
    "test_set['revenue'].value_counts()"
   ]
  },
  {
   "cell_type": "code",
   "execution_count": null,
   "id": "e15c84a7-a0e6-4407-8f25-a70351fe9d13",
   "metadata": {},
   "outputs": [],
   "source": [
    "test_set = pd.get_dummies(test_set[test_set.columns[:-1]])\n",
    "X_test=test_set.iloc[:,:-1]\n",
    "test_set['class'] = test_set['revenue']\n",
    "y_test=test_set['class']\n",
    "from sklearn.tree import DecisionTreeClassifier\n",
    "from sklearn.model_selection import cross_val_score\n",
    "clf= DecisionTreeClassifier(criterion=\"entropy\")\n",
    "\n",
    "cross_val_score(clf, X_test, y_test, cv=3, scoring=\"accuracy\")\n",
    "from sklearn.model_selection import cross_val_predict\n",
    "y_pred = cross_val_predict(clf, X_test, y_test, cv=3)\n",
    "print(metrics.confusion_matrix(y_test,y_pred))"
   ]
  },
  {
   "cell_type": "markdown",
   "id": "c2d79670-2cbc-4cd9-ad63-22c33d7dfbd3",
   "metadata": {},
   "source": [
    "Faisons avec k=10 :"
   ]
  },
  {
   "cell_type": "code",
   "execution_count": null,
   "id": "46a3d0d7-e922-4af7-8987-affa1b09d040",
   "metadata": {},
   "outputs": [],
   "source": [
    "train_set = pd.get_dummies(train_set[train_set.columns[:-1]])\n",
    "X_train=train_set.iloc[:,:-1]\n",
    "train_set['class'] = train_set['revenue']\n",
    "y_train=train_set['class']\n",
    "from sklearn.tree import DecisionTreeClassifier\n",
    "from sklearn.model_selection import cross_val_score\n",
    "clf= DecisionTreeClassifier(criterion=\"entropy\")\n",
    "\n",
    "cross_val_score(clf, X_train, y_train, cv=3, scoring=\"accuracy\")\n",
    "from sklearn.model_selection import cross_val_predict\n",
    "y_pred = cross_val_predict(clf, X_train, y_train, cv=10)\n",
    "print(metrics.confusion_matrix(y_train,y_pred))"
   ]
  },
  {
   "cell_type": "code",
   "execution_count": null,
   "id": "9f9a4e66-5a0e-410a-b635-033c3adac420",
   "metadata": {},
   "outputs": [],
   "source": [
    "test_set = transformLabelIntoMultiClass(test_set)\n",
    "test_set['revenue'].value_counts()"
   ]
  },
  {
   "cell_type": "code",
   "execution_count": null,
   "id": "5628d98c-dbb2-41a7-a321-825ea756e589",
   "metadata": {},
   "outputs": [],
   "source": [
    "test_set = pd.get_dummies(test_set[test_set.columns[:-1]])\n",
    "X_test=test_set.iloc[:,:-1]\n",
    "test_set['class'] = test_set['revenue']\n",
    "y_test=test_set['class']\n",
    "from sklearn.tree import DecisionTreeClassifier\n",
    "from sklearn.model_selection import cross_val_score\n",
    "clf= DecisionTreeClassifier(criterion=\"entropy\")\n",
    "\n",
    "cross_val_score(clf, X_test, y_test, cv=10, scoring=\"accuracy\")\n",
    "from sklearn.model_selection import cross_val_predict\n",
    "y_pred = cross_val_predict(clf, X_test, y_test, cv=10)\n",
    "print(metrics.confusion_matrix(y_test,y_pred))"
   ]
  },
  {
   "cell_type": "markdown",
   "id": "de6b3448-1ab6-43a9-95e6-a23fd81b6f34",
   "metadata": {},
   "source": [
    "On choisit k=10 car nous n'avons pas de FP/FN quelques soit k"
   ]
  },
  {
   "cell_type": "markdown",
   "id": "bb38c626-0ccc-46df-89f5-e0e181dbede3",
   "metadata": {},
   "source": [
    "2.2.3 - Comparer les résultats obtenus avec ceux du classeur binaire "
   ]
  },
  {
   "cell_type": "markdown",
   "id": "5fe2e730-cced-4e8c-9c02-3e245758f0a9",
   "metadata": {},
   "source": [
    "Si la préocupation principale est de simplement distinguer les revenus bas des revenus élevés, \n",
    "un modèle binaire pourrait suffire, et il pourrait être plus simple et plus interprétable.\n",
    "\n",
    "Si l on souhaite également identifier une catégorie de revenu intermédiaire (revenu-moyen), \n",
    "un modèle multi-classes est plus approprié, car il peut fournir une classification plus fine"
   ]
  }
 ],
 "metadata": {
  "kernelspec": {
   "display_name": "Python 3 (ipykernel)",
   "language": "python",
   "name": "python3"
  },
  "language_info": {
   "codemirror_mode": {
    "name": "ipython",
    "version": 3
   },
   "file_extension": ".py",
   "mimetype": "text/x-python",
   "name": "python",
   "nbconvert_exporter": "python",
   "pygments_lexer": "ipython3",
   "version": "3.10.7"
  }
 },
 "nbformat": 4,
 "nbformat_minor": 5
}
